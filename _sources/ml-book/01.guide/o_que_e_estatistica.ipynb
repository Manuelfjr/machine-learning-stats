{
 "cells": [
  {
   "cell_type": "markdown",
   "id": "6243aa76",
   "metadata": {},
   "source": [
    "# O Que E Estatistica"
   ]
  }
 ],
 "metadata": {},
 "nbformat": 4,
 "nbformat_minor": 5
}
