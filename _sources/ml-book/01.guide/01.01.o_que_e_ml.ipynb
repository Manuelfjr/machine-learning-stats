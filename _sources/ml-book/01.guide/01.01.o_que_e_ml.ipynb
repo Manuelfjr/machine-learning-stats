{
 "cells": [
  {
   "cell_type": "markdown",
   "id": "906b3ed9",
   "metadata": {},
   "source": [
    "# Ml-Book/01.Guide/01.01.O Que E Ml"
   ]
  }
 ],
 "metadata": {},
 "nbformat": 4,
 "nbformat_minor": 5
}
