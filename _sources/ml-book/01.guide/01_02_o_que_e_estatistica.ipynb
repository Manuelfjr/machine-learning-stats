{
 "cells": [
  {
   "cell_type": "markdown",
   "id": "a229ba9f",
   "metadata": {},
   "source": [
    "# Ml-Book/01.Guide/01 02 O Que E Estatistica"
   ]
  }
 ],
 "metadata": {},
 "nbformat": 4,
 "nbformat_minor": 5
}
