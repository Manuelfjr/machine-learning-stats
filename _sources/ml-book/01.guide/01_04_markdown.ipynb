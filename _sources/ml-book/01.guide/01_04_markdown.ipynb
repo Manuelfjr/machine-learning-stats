{
 "cells": [
  {
   "cell_type": "markdown",
   "id": "4f35f4c8",
   "metadata": {},
   "source": [
    "# Ml-Book/01.Guide/01 04 Markdown"
   ]
  }
 ],
 "metadata": {},
 "nbformat": 4,
 "nbformat_minor": 5
}
