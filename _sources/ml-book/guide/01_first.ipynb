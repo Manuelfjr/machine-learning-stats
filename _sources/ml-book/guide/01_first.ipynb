{
 "cells": [
  {
   "cell_type": "markdown",
   "metadata": {},
   "source": [
    "# Machine Learning\n",
    "\n",
    "Durante essa seção, vamos abordar temas teóricos e práticos sobre a área de *Machine Learning*, incluindo os principais métodos da área, que são:\n",
    "\n",
    "* **Aprendizado Supervisionado**: Este é o tipo mais comum de aprendizado de máquina, onde um modelo é treinado em um conjunto de dados rotulado. Exemplos de algoritmos de aprendizado supervisionado incluem regressão linear e logística, máquinas de vetores de suporte e árvores de decisão.\n",
    "\n",
    "* **Aprendizado Não Supervisionado**: Neste tipo de aprendizado de máquina, o modelo é treinado em um conjunto de dados não rotulado. O objetivo é encontrar padrões e estruturas ocultas nos dados. Exemplos de algoritmos de aprendizado não supervisionado incluem k-means, análise de componentes principais e autoencoders.\n",
    "\n",
    "* **Aprendizado por Reforço**: Este é um tipo de aprendizado de máquina onde um agente aprende a tomar decisões através de tentativa e erro. O agente recebe recompensas ou punições com base nas ações que realiza, e o objetivo é maximizar a recompensa total.\n",
    "\n",
    "Além disso, também discutiremos sobre a importância da pré-processamento de dados, a escolha do modelo correto, a avaliação do desempenho do modelo e a otimização de hiperparâmetros. Também exploraremos como o aprendizado de máquina está sendo aplicado em várias indústrias e suas implicações éticas."
   ]
  }
 ],
 "metadata": {
  "kernelspec": {
   "display_name": "ml-books-pEOjUSxa-py3.10",
   "language": "python",
   "name": "python3"
  },
  "language_info": {
   "codemirror_mode": {
    "name": "ipython",
    "version": 3
   },
   "file_extension": ".py",
   "mimetype": "text/x-python",
   "name": "python",
   "nbconvert_exporter": "python",
   "pygments_lexer": "ipython3",
   "version": "3.10.12"
  }
 },
 "nbformat": 4,
 "nbformat_minor": 2
}
