{
 "cells": [
  {
   "cell_type": "markdown",
   "id": "aa462698",
   "metadata": {},
   "source": [
    "# Regressao Linear"
   ]
  }
 ],
 "metadata": {},
 "nbformat": 4,
 "nbformat_minor": 5
}
