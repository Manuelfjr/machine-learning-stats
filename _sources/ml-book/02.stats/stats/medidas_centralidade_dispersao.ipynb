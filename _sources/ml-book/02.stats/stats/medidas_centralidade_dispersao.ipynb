{
 "cells": [
  {
   "cell_type": "markdown",
   "id": "f1006e1a",
   "metadata": {},
   "source": [
    "# Medidas Centralidade Dispersao"
   ]
  }
 ],
 "metadata": {},
 "nbformat": 4,
 "nbformat_minor": 5
}
