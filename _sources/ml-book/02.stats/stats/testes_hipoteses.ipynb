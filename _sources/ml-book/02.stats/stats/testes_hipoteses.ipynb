{
 "cells": [
  {
   "cell_type": "markdown",
   "id": "202b805c",
   "metadata": {},
   "source": [
    "# Testes Hipoteses"
   ]
  }
 ],
 "metadata": {},
 "nbformat": 4,
 "nbformat_minor": 5
}
