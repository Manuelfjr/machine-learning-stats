{
 "cells": [
  {
   "cell_type": "markdown",
   "metadata": {},
   "source": [
    "# Aprendizado Supervisionado\n",
    "O aprendizado supervisionado é um dos principais métodos de Machine Learning. Neste tipo de aprendizado, fornecemos ao algoritmo um conjunto de dados que contém tanto as características (ou entradas) quanto as respostas corretas (ou saídas). O objetivo do algoritmo é aprender a mapear as entradas para as saídas corretas.\n",
    "\n",
    "Existem dois tipos principais de problemas de aprendizado supervisionado:\n",
    "\n",
    "* **Regressão**: Quando a saída é uma quantidade contínua, como a temperatura ou o preço de uma casa.\n",
    "\n",
    "* **Classificação**: Quando a saída é uma categoria, como \"spam\" ou \"não spam\" para e-mails.\n",
    "\n",
    "Alguns dos algoritmos mais comuns de aprendizado supervisionado incluem regressão linear, regressão logística, máquinas de vetores de suporte (SVMs), árvores de decisão e florestas aleatórias.\n",
    "\n",
    "Nesta seção, vamos explorar cada um desses algoritmos em detalhes, entender como eles funcionam, como treiná-los e avaliar seu desempenho. Além disso, também discutiremos sobre a importância do pré-processamento de dados e a otimização de hiperparâmetros nestes algoritmos."
   ]
  }
 ],
 "metadata": {
  "kernelspec": {
   "display_name": "Python 3",
   "language": "python",
   "name": "python3"
  },
  "language_info": {
   "codemirror_mode": {
    "name": "ipython",
    "version": 3
   },
   "file_extension": ".py",
   "mimetype": "text/x-python",
   "name": "python",
   "nbconvert_exporter": "python",
   "pygments_lexer": "ipython3",
   "version": "3.8.0"
  },
  "widgets": {
   "application/vnd.jupyter.widget-state+json": {
    "state": {},
    "version_major": 2,
    "version_minor": 0
   }
  }
 },
 "nbformat": 4,
 "nbformat_minor": 4
}
