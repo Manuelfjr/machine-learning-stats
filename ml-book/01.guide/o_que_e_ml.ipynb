{
 "cells": [
  {
   "cell_type": "markdown",
   "id": "9a895ad2",
   "metadata": {},
   "source": [
    "# O Que E Ml"
   ]
  }
 ],
 "metadata": {
  "language_info": {
   "name": "python"
  }
 },
 "nbformat": 4,
 "nbformat_minor": 5
}
