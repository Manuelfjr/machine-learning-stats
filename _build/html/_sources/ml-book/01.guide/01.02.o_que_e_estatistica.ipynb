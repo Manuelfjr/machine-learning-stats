{
 "cells": [
  {
   "cell_type": "markdown",
   "id": "e7087d86",
   "metadata": {},
   "source": [
    "# Ml-Book/01.Guide/01.02.O Que E Estatistica"
   ]
  }
 ],
 "metadata": {},
 "nbformat": 4,
 "nbformat_minor": 5
}
