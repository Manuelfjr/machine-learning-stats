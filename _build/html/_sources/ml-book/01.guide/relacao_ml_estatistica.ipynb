{
 "cells": [
  {
   "cell_type": "markdown",
   "id": "d3c3d51d",
   "metadata": {},
   "source": [
    "# Relacao Ml Estatistica"
   ]
  }
 ],
 "metadata": {},
 "nbformat": 4,
 "nbformat_minor": 5
}
