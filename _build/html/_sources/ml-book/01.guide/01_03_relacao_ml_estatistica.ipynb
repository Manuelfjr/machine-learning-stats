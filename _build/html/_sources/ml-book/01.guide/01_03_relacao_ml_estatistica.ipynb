{
 "cells": [
  {
   "cell_type": "markdown",
   "id": "7a16b799",
   "metadata": {},
   "source": [
    "# Ml-Book/01.Guide/01 03 Relacao Ml Estatistica"
   ]
  }
 ],
 "metadata": {},
 "nbformat": 4,
 "nbformat_minor": 5
}
