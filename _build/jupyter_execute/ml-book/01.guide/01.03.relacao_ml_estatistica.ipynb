{
 "cells": [
  {
   "cell_type": "markdown",
   "id": "b88b103b",
   "metadata": {},
   "source": [
    "# Ml-Book/01.Guide/01.03.Relacao Ml Estatistica"
   ]
  }
 ],
 "metadata": {},
 "nbformat": 4,
 "nbformat_minor": 5
}