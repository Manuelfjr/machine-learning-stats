{
 "cells": [
  {
   "cell_type": "markdown",
   "id": "df35bc6a",
   "metadata": {},
   "source": [
    "# Ml-Book/01.Guide/01.06.Exercicios"
   ]
  }
 ],
 "metadata": {},
 "nbformat": 4,
 "nbformat_minor": 5
}