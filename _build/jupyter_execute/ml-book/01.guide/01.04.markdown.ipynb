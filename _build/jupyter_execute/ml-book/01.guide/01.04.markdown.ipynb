{
 "cells": [
  {
   "cell_type": "markdown",
   "id": "e0ed8d65",
   "metadata": {},
   "source": [
    "# Ml-Book/01.Guide/01.04.Markdown"
   ]
  }
 ],
 "metadata": {},
 "nbformat": 4,
 "nbformat_minor": 5
}