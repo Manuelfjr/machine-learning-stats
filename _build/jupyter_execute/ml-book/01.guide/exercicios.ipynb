{
 "cells": [
  {
   "cell_type": "markdown",
   "id": "2f6e75b2",
   "metadata": {},
   "source": [
    "# Exercicios"
   ]
  }
 ],
 "metadata": {},
 "nbformat": 4,
 "nbformat_minor": 5
}