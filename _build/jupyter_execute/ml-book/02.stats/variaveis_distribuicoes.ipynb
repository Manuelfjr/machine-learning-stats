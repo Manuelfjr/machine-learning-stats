{
 "cells": [
  {
   "cell_type": "markdown",
   "id": "49fa9ca6",
   "metadata": {},
   "source": [
    "# Variaveis Distribuicoes"
   ]
  }
 ],
 "metadata": {},
 "nbformat": 4,
 "nbformat_minor": 5
}