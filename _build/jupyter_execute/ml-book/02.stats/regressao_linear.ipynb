{
 "cells": [
  {
   "cell_type": "markdown",
   "id": "bef770e4",
   "metadata": {},
   "source": [
    "# Regressao Linear"
   ]
  }
 ],
 "metadata": {},
 "nbformat": 4,
 "nbformat_minor": 5
}