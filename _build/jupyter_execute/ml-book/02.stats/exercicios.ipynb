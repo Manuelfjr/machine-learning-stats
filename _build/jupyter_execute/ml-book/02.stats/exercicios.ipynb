{
 "cells": [
  {
   "cell_type": "markdown",
   "id": "cfb52a04",
   "metadata": {},
   "source": [
    "# Exercicios"
   ]
  }
 ],
 "metadata": {},
 "nbformat": 4,
 "nbformat_minor": 5
}