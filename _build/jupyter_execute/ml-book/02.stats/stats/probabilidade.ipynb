{
 "cells": [
  {
   "cell_type": "markdown",
   "id": "326b9e62",
   "metadata": {},
   "source": [
    "# Probabilidade"
   ]
  }
 ],
 "metadata": {},
 "nbformat": 4,
 "nbformat_minor": 5
}