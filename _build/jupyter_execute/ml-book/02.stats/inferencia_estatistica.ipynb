{
 "cells": [
  {
   "cell_type": "markdown",
   "id": "085670d3",
   "metadata": {},
   "source": [
    "# Inferencia Estatistica"
   ]
  }
 ],
 "metadata": {},
 "nbformat": 4,
 "nbformat_minor": 5
}