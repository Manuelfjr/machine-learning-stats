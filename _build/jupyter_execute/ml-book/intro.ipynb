{
 "cells": [
  {
   "cell_type": "markdown",
   "metadata": {},
   "source": [
    "# Introdução"
   ]
  },
  {
   "cell_type": "markdown",
   "metadata": {},
   "source": [
    "Este material foi elaborado com o objetivo de servir como um guia abrangente para profissionais e entusiastas que estão imersos no campo de dados. Ele oferece uma visão geral das informações mais relevantes e atuais utilizadas em diversas áreas, incluindo:\n",
    "\n",
    "* Ciência de Dados;\n",
    "* Engenharia de Dados;\n",
    "* Machine Learning;\n",
    "* Inteligência Artificial;\n",
    "\n",
    "Além de outras áreas correlatas que também são abordadas.\n",
    "\n",
    "O livro é estruturado de forma a proporcionar uma compreensão profunda desses tópicos, com exemplos práticos e teóricos que ajudam a ilustrar os conceitos apresentados.\n",
    "\n",
    "Além disso, este material adota a linguagem de programação Python {cite:ps}`python`, amplamente utilizada na indústria e na academia, devido à sua sintaxe clara e legível, bem como à sua vasta gama de bibliotecas para análise de dados, aprendizado de máquina e inteligência artificial. Portanto, ao longo do livro, você encontrará exemplos de código, exercícios e projetos práticos implementados em Python.\n",
    "\n",
    "Este livro também se esforça para abordar as melhores práticas na configuração de ambientes, manipulação, análise e visualização de dados, bem como na construção e avaliação de modelos de machine learning. Além disso, discutiremos as implicações éticas do uso de dados e de algoritmos de aprendizado de máquina, um tópico cada vez mais importante na era digital atual.\n",
    "\n",
    "Finalmente, este material é destinado a ser um recurso vivo, com atualizações e adições planejadas para refletir as tendências emergentes e os avanços na área de dados. Seja você um profissional experiente procurando atualizar seus conhecimentos, ou um novato ansioso para entrar no campo, esperamos que este livro seja um recurso valioso em sua jornada de aprendizado."
   ]
  }
 ],
 "metadata": {
  "language_info": {
   "name": "python"
  }
 },
 "nbformat": 4,
 "nbformat_minor": 2
}